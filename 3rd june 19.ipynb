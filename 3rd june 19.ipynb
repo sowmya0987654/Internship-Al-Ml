{
 "cells": [
  {
   "cell_type": "markdown",
   "metadata": {},
   "source": [
    "## How many runs of  Dhoni  On 4/23/2008  Chennai Super Kings vs Mumbai Indians Match ( Use Oops concepts)\n",
    "\n",
    "### Datasets: \n",
    "* Match.csv => Match details (match id , teams, location etc) \n",
    "* Player.csv => Player Details (player id, name,team name, etc)\n",
    "* Ball_By_Ball => Ball to ball details (match id , striker, runs, over id, ball id etc)\n",
    "\n"
   ]
  },
  {
   "cell_type": "code",
   "execution_count": 32,
   "metadata": {},
   "outputs": [
    {
     "data": {
      "text/plain": [
       "30"
      ]
     },
     "execution_count": 32,
     "metadata": {},
     "output_type": "execute_result"
    }
   ],
   "source": [
    "import pandas as pd\n",
    "class chennai():\n",
    "    def dhoni():\n",
    "        df=pd.read_csv('DataFiles/Player.csv')\n",
    "        for row in df.values:\n",
    "            if(row[2]=='MS Dhoni'): \n",
    "                return row[1]\n",
    "    \n",
    "    def date():\n",
    "        df=pd.read_csv('DataFiles/Match.csv')\n",
    "        for row in df.values:\n",
    "            if(row[4]=='4/23/2008'): \n",
    "                return row[1]\n",
    "    def runs():\n",
    "        df=pd.read_csv('DataFiles/Ball_By_Ball.csv')\n",
    "        matchid=chennai.dhoni()\n",
    "        dateid=chennai.date()\n",
    "        run=0\n",
    "        for row in df.values:\n",
    "            if(row[29]==matchid) and (row[0]==dateid):\n",
    "                    run=run+row[8]\n",
    "        return run\n",
    "chennai.runs()"
   ]
  },
  {
   "cell_type": "code",
   "execution_count": null,
   "metadata": {},
   "outputs": [],
   "source": []
  },
  {
   "cell_type": "markdown",
   "metadata": {},
   "source": [
    "## 4/23/2008  Chennai Super Kings vs Mumbai Indians Match\n",
    "* Plot a bar graph for all the players in the   Mumbai Indians  team\n"
   ]
  },
  {
   "cell_type": "code",
   "execution_count": 58,
   "metadata": {},
   "outputs": [
    {
     "data": {
      "image/png": "[encoded data removed]",
      "text/plain": [
       "<Figure size 432x288 with 1 Axes>"
      ]
     },
     "metadata": {
      "needs_background": "light"
     },
     "output_type": "display_data"
    }
   ],
   "source": [
    "import pandas as pd\n",
    "import matplotlib.pyplot as plt\n",
    "class mumbai_indians():\n",
    "    def date():\n",
    "        df=pd.read_csv('DataFiles/Match.csv')\n",
    "        for row in df.values:\n",
    "            if(row[4]=='4/23/2008'): \n",
    "                return row[1]\n",
    "    \n",
    "    def players():\n",
    "        df=pd.read_csv('DataFiles/Player_match.csv')\n",
    "        matchid=mumbai_indians.date()\n",
    "        players=[]\n",
    "        for row in df.values:\n",
    "            if(row[10]=='Mumbai Indians') and (row[2]==matchid):\n",
    "                players.append(row[4])\n",
    "        return players\n",
    "    def playerid():\n",
    "        df=pd.read_csv('DataFiles/Player_match.csv')\n",
    "        matchid=mumbai_indians.date()\n",
    "        playerid=mumbai_indians.players()\n",
    "        playerid=[]\n",
    "        for row in df.values:\n",
    "             if(row[10]=='Mumbai Indians') and (row[2]==matchid):\n",
    "                playerid.append(row[3])\n",
    "        return playerid\n",
    "    def all_players():\n",
    "        df=pd.read_csv('DataFiles/Ball_By_Ball.csv')\n",
    "        matchid=mumbai_indians.date()\n",
    "        playername=mumbai_indians.players()\n",
    "        playerid=mumbai_indians.playerid()\n",
    "        runs=[]\n",
    "        for i in playerid:\n",
    "            sum1=0\n",
    "            for row in df.values:\n",
    "                if(row[29]==i) and (row[0]==matchid):\n",
    "                        sum1=sum1+row[8]\n",
    "            runs.append(sum1) \n",
    "        return runs\n",
    "    def bargraph():\n",
    "        x=mumbai_indians.players()\n",
    "        y=mumbai_indians.all_players()\n",
    "        width=1/2\n",
    "        plt.bar(x,y,width,color='Black')\n",
    "        plt.xlabel('Player Names')\n",
    "        plt.ylabel('player runs')\n",
    "        plt.xticks(rotation=60)\n",
    "        plt.show()\n",
    "        \n",
    "mumbai_indians.bargraph()            \n",
    "                "
   ]
  }
 ],
 "metadata": {
  "kernelspec": {
   "display_name": "Python 3",
   "language": "python",
   "name": "python3"
  },
  "language_info": {
   "codemirror_mode": {
    "name": "ipython",
    "version": 3
   },
   "file_extension": ".py",
   "mimetype": "text/x-python",
   "name": "python",
   "nbconvert_exporter": "python",
   "pygments_lexer": "ipython3",
   "version": "3.7.3"
  }
 },
 "nbformat": 4,
 "nbformat_minor": 2
}
